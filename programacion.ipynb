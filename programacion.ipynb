{
  "nbformat": 4,
  "nbformat_minor": 0,
  "metadata": {
    "colab": {
      "provenance": []
    },
    "kernelspec": {
      "name": "python3",
      "display_name": "Python 3"
    },
    "language_info": {
      "name": "python"
    }
  },
  "cells": [
    {
      "cell_type": "code",
      "execution_count": 1,
      "metadata": {
        "colab": {
          "base_uri": "https://localhost:8080/",
          "height": 106
        },
        "id": "WW-iMw1CA8QS",
        "outputId": "abde4157-e75e-4767-9b33-2bf5e516f67f"
      },
      "outputs": [
        {
          "output_type": "error",
          "ename": "SyntaxError",
          "evalue": "invalid decimal literal (<ipython-input-1-a789847ce3fd>, line 28)",
          "traceback": [
            "\u001b[0;36m  File \u001b[0;32m\"<ipython-input-1-a789847ce3fd>\"\u001b[0;36m, line \u001b[0;32m28\u001b[0m\n\u001b[0;31m    128 152z -714 8  530 -14 789\u001b[0m\n\u001b[0m          ^\u001b[0m\n\u001b[0;31mSyntaxError\u001b[0m\u001b[0;31m:\u001b[0m invalid decimal literal\n"
          ]
        }
      ],
      "source": [
        "**LENGUAJE Y ALGORITMO**\n",
        "\n",
        "lenguaje de programacion\n",
        "\n",
        "*  C\n",
        "*  C++\n",
        "*  Java\n",
        "*  Fortram\n",
        "*  Delphi\n",
        "\n",
        "**ALGORITMO**\n",
        "\n",
        "Conjubto de pasos, procedimientos o acciones que nos permiten alcanzar un resultado o resolver un problema\n",
        "\n",
        "Caracteristicas:\n",
        "\n",
        "  Determinacion\n",
        "  Presiscion\n",
        "  Finitud\n",
        "\n",
        "  (Cairo et al., 1993)\n",
        "\n",
        "  **DATOS**\n",
        "\n",
        "  valores enteros y valores reales.\n",
        "  valores que pueden estas presendidos por los signos(+ -)\n",
        "\n",
        "  128 152z -714 8  530 -14 789\n",
        "  7,5  128.0  -37.865   129.7     16 000.50\n",
        "\n",
        "  **DATOS ALFANUMERICOS**\n",
        "*Caracter\n",
        "*Cadena\n",
        "\n",
        "(a,b,c...z)\n",
        "(0,1,2,3... 9)\n",
        "(#, ?, $, %, *, etc)\n",
        "\n",
        " 'a' 'B' '$ '9'  'H'\n",
        "\n",
        " ¨abc¨ \"$9#7\" \"Heeeectoooor\" \"Patroclo!!!\" \"754-27-22\"\n",
        "\n",
        " **DATOS LOGICOS**\n",
        " boleanos\n",
        " verdadero(true)\n",
        "Falso"
      ]
    },
    {
      "cell_type": "markdown",
      "source": [
        "**LENGUAJE Y ALGORITMO**\n",
        "\n",
        "lenguaje de programacion\n",
        "\n",
        "*  C\n",
        "*  C++\n",
        "*  Java\n",
        "*  Fortram\n",
        "*  Delphi\n",
        "\n",
        "**ALGORITMO**\n",
        "\n",
        "Conjubto de pasos, procedimientos o acciones que nos permiten alcanzar un resultado o resolver un problema\n",
        "\n",
        "Caracteristicas:\n",
        "\n",
        "  Determinacion\n",
        "  Presiscion\n",
        "  Finitud\n",
        "\n",
        "  (Cairo et al., 1993)\n",
        "\n",
        "  **DATOS**\n",
        "\n",
        "  valores enteros y valores reales.\n",
        "  valores que pueden estas presendidos por los signos(+ -)\n",
        "\n",
        "  128 152z -714 8  530 -14 789\n",
        "  7,5  128.0  -37.865   129.7     16 000.50\n",
        "\n",
        "  **DATOS ALFANUMERICOS**\n",
        "*Caracter\n",
        "*Cadena\n",
        "\n",
        "(a,b,c...z)\n",
        "(0,1,2,3... 9)\n",
        "(#, ?, $, %, *, etc)\n",
        "\n",
        " 'a' 'B' '$ '9'  'H'\n",
        "\n",
        " ¨abc¨ \"$9#7\" \"Heeeectoooor\" \"Patroclo!!!\" \"754-27-22\"\n",
        "\n",
        " **DATOS LOGICOS**\n",
        " boleanos\n",
        " verdadero(true)\n",
        "Falso (fale)"
      ],
      "metadata": {
        "id": "EtPObGsaLB2s"
      }
    },
    {
      "cell_type": "code",
      "source": [
        "#tipos de variable en phython\n",
        "#Eltipo de variable estara determinado por el tipo de dato que almacena\n",
        "#Entero: vasta agragar un valor entero\n",
        "\n",
        "a=10\n",
        "b=11\n",
        "\n",
        "#Decimal: deben agragarse a un nuevo numero con punto flotante\n",
        "c=3.1416\n",
        "print(c)\n",
        "\n",
        "#Booleanos: Datos con verdadero o false\n",
        "#se puede usar palabras: true false\n",
        "\n",
        "verdad= 1\n",
        "Falso= 0\n",
        "\n",
        "#texto o cadena string\n",
        "saludo= \"hola mundo\"\n",
        "print(saludo)\n",
        "\n",
        "nombre= \"Juan\"\n",
        "print(nombre)\n",
        "\n",
        "uno= \"a\"\n",
        "dos=\"b\"\n",
        "\n",
        "\n",
        "\n",
        "\n",
        "\n",
        "\n",
        "\n",
        "\n",
        "\n",
        "\n",
        "\n",
        "\n",
        "\n",
        "\n",
        "\n",
        "\n",
        "\n",
        "\n",
        "\n",
        "\n",
        "\n",
        "\n",
        "\n",
        "\n",
        "\n",
        "\n",
        "\n",
        "\n",
        "\n",
        "\n",
        "\n"
      ],
      "metadata": {
        "colab": {
          "base_uri": "https://localhost:8080/"
        },
        "id": "THSFPiCzNo_G",
        "outputId": "229a75f1-97cd-42be-c9c6-94bc5cb712af"
      },
      "execution_count": 2,
      "outputs": [
        {
          "output_type": "stream",
          "name": "stdout",
          "text": [
            "3.1416\n",
            "hola mundo\n",
            "Juan\n"
          ]
        }
      ]
    }
  ]
}