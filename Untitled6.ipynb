{
  "nbformat": 4,
  "nbformat_minor": 0,
  "metadata": {
    "colab": {
      "provenance": [],
      "authorship_tag": "ABX9TyNiufrHDa331PBOiNSwYTbW",
      "include_colab_link": true
    },
    "kernelspec": {
      "name": "python3",
      "display_name": "Python 3"
    },
    "language_info": {
      "name": "python"
    }
  },
  "cells": [
    {
      "cell_type": "markdown",
      "metadata": {
        "id": "view-in-github",
        "colab_type": "text"
      },
      "source": [
        "<a href=\"https://colab.research.google.com/github/ThelostScan/lambda/blob/main/Untitled6.ipynb\" target=\"_parent\"><img src=\"https://colab.research.google.com/assets/colab-badge.svg\" alt=\"Open In Colab\"/></a>"
      ]
    },
    {
      "cell_type": "markdown",
      "source": [
        "Elaborar un programa que permita calcular el numero de discos 3.5 necesarios para hacer una copia de seguridad de la informacion almacenada en un disco cuya capacidad se conoce. Hay que considerar que el disco duro esta lleno de informacion, ademas expresado en gigabyte. Un micro disco tiene 1.44 megabyte u un gygabite es igual a 1,024 megabyte.(30%)\n",
        "\n",
        "1.   Elemento de lista\n",
        "2.   Elemento de lista\n",
        "\n"
      ],
      "metadata": {
        "id": "JBfWQ4X3Y9kR"
      }
    },
    {
      "cell_type": "code",
      "source": [
        "# prompt: 1\n",
        "\n",
        "# Capacidad del disco duro en GB\n",
        "capacidad_disco = float(input(\"1,024 \"))\n",
        "\n",
        "# Capacidad de un disquete en MB\n",
        "capacidad_disquete = 1.44\n",
        "\n",
        "# Convertir la capacidad del disco duro a MB\n",
        "capacidad_disco_mb = capacidad_disco * 1024\n",
        "\n",
        "# Calcular el número de disquetes necesarios\n",
        "numero_disquetes = capacidad_disco_mb / capacidad_disquete\n",
        "\n",
        "# Mostrar el resultado\n",
        "print(\"Se necesitan\", round(numero_disquetes), \"disquetes de 3.5 para hacer una copia de seguridad.\")\n"
      ],
      "metadata": {
        "colab": {
          "base_uri": "https://localhost:8080/"
        },
        "id": "NJL2anlHZls7",
        "outputId": "23c8f9b4-fa5d-4058-d07b-cd0630b9d261"
      },
      "execution_count": null,
      "outputs": [
        {
          "name": "stdout",
          "output_type": "stream",
          "text": [
            "1,024 3.5\n"
          ]
        }
      ]
    },
    {
      "cell_type": "markdown",
      "source": [
        "Si se conoce la longitud de dos de los lados de un trinagulo (b y c) y el angulo entre ellos (alfa) expresado en grados sexagesimales; la longitud del tercer lado (a) se calcula la formula:\n",
        "a2 = b2 + c2 - 2bc* cos (alfa)"
      ],
      "metadata": {
        "id": "orw7YF8mhqrw"
      }
    },
    {
      "cell_type": "code",
      "source": [
        "# prompt: a b c cos\n",
        "\n",
        "import math\n",
        "\n",
        "b = float(input(\"Ingrese la longitud del lado b: \"))\n",
        "c = float(input(\"Ingrese la longitud del lado c: \"))\n",
        "alfa_grados = float(input(\"Ingrese el ángulo alfa en grados: \"))\n",
        "\n",
        "# Convertir el ángulo de grados a radianes\n",
        "alfa_radianes = math.radians(alfa_grados)\n",
        "\n",
        "# Calcular a^2 usando la fórmula del coseno\n",
        "a_cuadrado = b**2 + c**2 - 2 * b * c * math.cos(alfa_radianes)\n",
        "\n",
        "# Calcular a (la raíz cuadrada de a^2)\n",
        "a = math.sqrt(a_cuadrado)\n",
        "\n",
        "# Mostrar el resultado\n",
        "print(\"La longitud del lado a es:\", a)\n"
      ],
      "metadata": {
        "colab": {
          "base_uri": "https://localhost:8080/"
        },
        "id": "rGOgcHekisXI",
        "outputId": "46afb41e-5353-486f-cb0b-9ef1cb94ee93"
      },
      "execution_count": 13,
      "outputs": [
        {
          "output_type": "stream",
          "name": "stdout",
          "text": [
            "Ingrese la longitud del lado b: 1\n",
            "Ingrese la longitud del lado c: 4\n",
            "Ingrese el ángulo alfa en grados: 60\n",
            "La longitud del lado a es: 3.605551275463989\n"
          ]
        }
      ]
    },
    {
      "cell_type": "code",
      "source": [
        "# prompt: Si se conoce la longitus de dos dde los lados de un truangulo (b y c) y el ángulo entre ellos (alfa), expresando en grados sexagesimalles, la longitud del tercer lado(a) se calcula por la formula: a2=b2+c2-2bv*cos(alfa)\n",
        "\n",
        "import math\n",
        "\n",
        "def calcular_lado_a(b, c, alfa):\n",
        "  \"\"\"\n",
        "  Calcula la longitud del tercer lado (a) de un triángulo, dada la longitud de dos lados (b y c)\n",
        "  y el ángulo entre ellos (alfa) en grados sexagesimales.\n",
        "\n",
        "  Args:\n",
        "    b: Longitud del lado b.\n",
        "    c: Longitud del lado c.\n",
        "    alfa: Ángulo entre los lados b y c en grados sexagesimales.\n",
        "\n",
        "  Returns:\n",
        "    La longitud del lado a.\n",
        "  \"\"\"\n",
        "\n",
        "  alfa_rad = math.radians(alfa)  # Convertir alfa a radianes\n",
        "  a2 = b**2 + c**2 - 2 * b * c * math.cos(alfa_rad)\n",
        "  a = math.sqrt(a2)\n",
        "  return a\n",
        "\n",
        "# Ejemplo de uso\n",
        "b = 5\n",
        "c = 7\n",
        "alfa = 60\n",
        "\n",
        "lado_a = calcular_lado_a(b, c, alfa)\n",
        "print(\"La longitud del lado a es:\", lado_a)\n"
      ],
      "metadata": {
        "colab": {
          "base_uri": "https://localhost:8080/"
        },
        "id": "r7Skog3ikl8Q",
        "outputId": "20be0cd0-9851-4244-91f3-7b3683a3699f"
      },
      "execution_count": 14,
      "outputs": [
        {
          "output_type": "stream",
          "name": "stdout",
          "text": [
            "La longitud del lado a es: 6.244997998398397\n"
          ]
        }
      ]
    }
  ]
}