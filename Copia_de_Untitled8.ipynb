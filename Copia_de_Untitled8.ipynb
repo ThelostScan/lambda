{
  "nbformat": 4,
  "nbformat_minor": 0,
  "metadata": {
    "colab": {
      "provenance": [],
      "authorship_tag": "ABX9TyPKqthvkigQz9Y9v9Levud2",
      "include_colab_link": true
    },
    "kernelspec": {
      "name": "python3",
      "display_name": "Python 3"
    },
    "language_info": {
      "name": "python"
    }
  },
  "cells": [
    {
      "cell_type": "markdown",
      "metadata": {
        "id": "view-in-github",
        "colab_type": "text"
      },
      "source": [
        "<a href=\"https://colab.research.google.com/github/ThelostScan/lambda/blob/main/Copia_de_Untitled8.ipynb\" target=\"_parent\"><img src=\"https://colab.research.google.com/assets/colab-badge.svg\" alt=\"Open In Colab\"/></a>"
      ]
    },
    {
      "cell_type": "code",
      "execution_count": null,
      "metadata": {
        "id": "2Mn7fweKa9ax"
      },
      "outputs": [],
      "source": []
    },
    {
      "cell_type": "markdown",
      "source": [
        "#Esctructura selectivas\n",
        "\n",
        "Las esctructuras selectivas tambien conocidas como logica selectiva\n",
        "#Señalan un camino alternativo a seguir\n",
        "-Simples\n",
        "-Doble\n",
        "-Triple\n",
        "\n",
        "#Estructura simple\n",
        "si <condicion> entonces\n",
        "<operaciones o acciones>\n",
        "..\n",
        "fin si"
      ],
      "metadata": {
        "id": "Yglsu9DdbA_V"
      }
    },
    {
      "cell_type": "code",
      "source": [
        "print(\"Ejmeplo de condicion simple\")\n",
        "print(\"ingrese un numero: \")\n",
        "x = int(input())\n",
        "if x<100:\n",
        "    print(\"el numero es menor a 100\")\n"
      ],
      "metadata": {
        "colab": {
          "base_uri": "https://localhost:8080/"
        },
        "id": "scbqbdgMcIBs",
        "outputId": "f56da066-b1aa-4cea-dc01-5e62694ddf41"
      },
      "execution_count": null,
      "outputs": [
        {
          "output_type": "stream",
          "name": "stdout",
          "text": [
            "Ejmeplo de condicion simple\n",
            "ingrese un numero: \n",
            "3\n",
            "el numero es menor a 100\n"
          ]
        }
      ]
    },
    {
      "cell_type": "markdown",
      "source": [
        "#Estructura selectiva Doble\n",
        "si <condicion> entonces<acciones tipo 1>si no<acciones tipo 2>sin si"
      ],
      "metadata": {
        "id": "_B6xKrptdvzM"
      }
    },
    {
      "cell_type": "code",
      "source": [
        "print(\"Ejemplo de condicion doble\")\n",
        "print(\"ingrese 2 numeros: \")\n",
        "x = int(input(\"Primer numero: \"))\n",
        "y = int(input(\"Segundo numero: \"))\n",
        "if x>y:\n",
        "  print(\"El menor es:\", y)\n",
        "else:\n",
        "  if y>x:\n",
        "    print(\"El menor es:\", x)"
      ],
      "metadata": {
        "colab": {
          "base_uri": "https://localhost:8080/"
        },
        "id": "0b0JOADEeLa0",
        "outputId": "a13cc5b3-51ee-4d52-efb4-e2e2eb19295a"
      },
      "execution_count": null,
      "outputs": [
        {
          "output_type": "stream",
          "name": "stdout",
          "text": [
            "Ejemplo de condicion doble\n",
            "ingrese 2 numeros: \n",
            "Primer numero: 5\n",
            "Segundo numero: 3\n",
            "El menor es: 3\n"
          ]
        }
      ]
    },
    {
      "cell_type": "markdown",
      "source": [
        "#Estructura Selectiva Multiple\n",
        "\n",
        "si<selector> igual\n",
        "<valor1>: <operacion 1>\n",
        "<valor2>: <operacion 2>\n",
        "...\n",
        "...\n",
        "[<En otro caso:<operacion n+1>]"
      ],
      "metadata": {
        "id": "BAdxB2eEfEuz"
      }
    },
    {
      "cell_type": "code",
      "source": [
        "print(\"Ejemplo de condicion multiple\")\n",
        "\n",
        "swicher = {\n",
        "    1: \"enero\",\n",
        "    2: \"febrero\",\n",
        "    3: \"marzo\",\n",
        "    4: \"abril\",\n",
        "    5: \"mayo\",\n",
        "    6: \"junio\",\n",
        "    7: \"julio\",\n",
        "    8: \"agosto\",\n",
        "    9: \"septiembre\",\n",
        "    10: \"octubre\",\n",
        "    11: \"noviembre\",\n",
        "    12: \"diciembre\",\n",
        "}\n",
        "argument = int(input(\"Ingrese un numero: \"))\n",
        "nameMes = swicher.get(argument, \"Mes invalido\")\n",
        "print(nameMes)\n",
        "input(\"Presione una tecla para salir\")"
      ],
      "metadata": {
        "colab": {
          "base_uri": "https://localhost:8080/",
          "height": 105
        },
        "id": "g30iie33gGBL",
        "outputId": "18d50617-190b-4364-a0e2-d4ff808054c6"
      },
      "execution_count": null,
      "outputs": [
        {
          "name": "stdout",
          "output_type": "stream",
          "text": [
            "Ejemplo de condicion multiple\n",
            "Ingrese un numero: 12\n",
            "diciembre\n",
            "Presione una tecla para salir 5\n"
          ]
        },
        {
          "output_type": "execute_result",
          "data": {
            "text/plain": [
              "' 5'"
            ],
            "application/vnd.google.colaboratory.intrinsic+json": {
              "type": "string"
            }
          },
          "metadata": {},
          "execution_count": 7
        }
      ]
    },
    {
      "cell_type": "markdown",
      "source": [
        "Escribir un programa que dado el sueldo de un trabajador aplique un aunmento de 15% si este es inferior a $10,000 imprima el sueldo total que percibira"
      ],
      "metadata": {
        "id": "Zt01RpbUhBXj"
      }
    },
    {
      "cell_type": "code",
      "source": [
        "print(\"Ejemplo de condicion doble\")\n",
        "print(\"ingrese 2 numeros: \")\n",
        "x = int(input(\"Primer numero: \"))\n",
        "y = int(input(\"Segundo numero: \"))\n",
        "if x>y:\n",
        "  print(\"El menor es:\", y)\n",
        "else:\n",
        "  if y>x:\n",
        "    print(\"El menor es:100000\", x)"
      ],
      "metadata": {
        "colab": {
          "base_uri": "https://localhost:8080/"
        },
        "id": "n1K2z-Lkiiz7",
        "outputId": "ce78cec2-195f-440c-b7b9-363c0880745b"
      },
      "execution_count": null,
      "outputs": [
        {
          "output_type": "stream",
          "name": "stdout",
          "text": [
            "Ejemplo de condicion doble\n",
            "ingrese 2 numeros: \n",
            "Primer numero: 10000\n",
            "Segundo numero: 15\n",
            "El menor es: 15\n"
          ]
        }
      ]
    }
  ]
}